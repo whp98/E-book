{
  "nbformat": 4,
  "nbformat_minor": 0,
  "metadata": {
    "colab": {
      "name": "CPU和GPU测试",
      "provenance": [],
      "include_colab_link": true
    },
    "kernelspec": {
      "name": "python3",
      "display_name": "Python 3"
    },
    "accelerator": "GPU"
  },
  "cells": [
    {
      "cell_type": "markdown",
      "metadata": {
        "id": "view-in-github",
        "colab_type": "text"
      },
      "source": [
        "<a href=\"https://colab.research.google.com/github/whp98/E-book/blob/master/CPU%E5%92%8CGPU%E6%B5%8B%E8%AF%95.ipynb\" target=\"_parent\"><img src=\"https://colab.research.google.com/assets/colab-badge.svg\" alt=\"Open In Colab\"/></a>"
      ]
    },
    {
      "cell_type": "markdown",
      "metadata": {
        "id": "7VW442rnDx09",
        "colab_type": "text"
      },
      "source": [
        "# 首先硬件信息"
      ]
    },
    {
      "cell_type": "code",
      "metadata": {
        "id": "WGk1xwsV2uYu",
        "colab_type": "code",
        "outputId": "f44db027-55ee-4926-fb4b-3e44dac52fec",
        "colab": {
          "base_uri": "https://localhost:8080/",
          "height": 470
        }
      },
      "source": [
        "from tensorflow.python.client import device_lib\n",
        "\n",
        "device_lib.list_local_devices()\n",
        "\n",
        "\n"
      ],
      "execution_count": 0,
      "outputs": [
        {
          "output_type": "execute_result",
          "data": {
            "text/plain": [
              "[name: \"/device:CPU:0\"\n",
              " device_type: \"CPU\"\n",
              " memory_limit: 268435456\n",
              " locality {\n",
              " }\n",
              " incarnation: 15269864205328074935, name: \"/device:XLA_CPU:0\"\n",
              " device_type: \"XLA_CPU\"\n",
              " memory_limit: 17179869184\n",
              " locality {\n",
              " }\n",
              " incarnation: 11050480825801883085\n",
              " physical_device_desc: \"device: XLA_CPU device\", name: \"/device:XLA_GPU:0\"\n",
              " device_type: \"XLA_GPU\"\n",
              " memory_limit: 17179869184\n",
              " locality {\n",
              " }\n",
              " incarnation: 556147041880342016\n",
              " physical_device_desc: \"device: XLA_GPU device\", name: \"/device:GPU:0\"\n",
              " device_type: \"GPU\"\n",
              " memory_limit: 11330115994\n",
              " locality {\n",
              "   bus_id: 1\n",
              "   links {\n",
              "   }\n",
              " }\n",
              " incarnation: 14995049029550210806\n",
              " physical_device_desc: \"device: 0, name: Tesla K80, pci bus id: 0000:00:04.0, compute capability: 3.7\"]"
            ]
          },
          "metadata": {
            "tags": []
          },
          "execution_count": 1
        }
      ]
    },
    {
      "cell_type": "markdown",
      "metadata": {
        "id": "eWE-bKw2D70I",
        "colab_type": "text"
      },
      "source": [
        "# 安装跑分软件"
      ]
    },
    {
      "cell_type": "code",
      "metadata": {
        "id": "G-69agzsDnUa",
        "colab_type": "code",
        "outputId": "0c4cae79-040c-47c2-be28-96d5a065034a",
        "colab": {
          "base_uri": "https://localhost:8080/",
          "height": 403
        }
      },
      "source": [
        "!pip install ai-benchmark"
      ],
      "execution_count": 0,
      "outputs": [
        {
          "output_type": "stream",
          "text": [
            "Collecting ai-benchmark\n",
            "\u001b[?25l  Downloading https://files.pythonhosted.org/packages/92/50/bef41c8271f53e048fc59e64b5550bb7b5504363bc9044934759d162b634/ai_benchmark-0.1.1-py3-none-any.whl (21.5MB)\n",
            "\u001b[K     |████████████████████████████████| 21.6MB 361kB/s \n",
            "\u001b[?25hRequirement already satisfied: requests in /usr/local/lib/python3.6/dist-packages (from ai-benchmark) (2.21.0)\n",
            "Requirement already satisfied: setuptools in /usr/local/lib/python3.6/dist-packages (from ai-benchmark) (41.4.0)\n",
            "Requirement already satisfied: numpy in /usr/local/lib/python3.6/dist-packages (from ai-benchmark) (1.16.5)\n",
            "Collecting py-cpuinfo\n",
            "\u001b[?25l  Downloading https://files.pythonhosted.org/packages/42/60/63f28a5401da733043abe7053e7d9591491b4784c4f87c339bf51215aa0a/py-cpuinfo-5.0.0.tar.gz (82kB)\n",
            "\u001b[K     |████████████████████████████████| 92kB 9.7MB/s \n",
            "\u001b[?25hRequirement already satisfied: pillow in /usr/local/lib/python3.6/dist-packages (from ai-benchmark) (4.3.0)\n",
            "Requirement already satisfied: psutil in /usr/local/lib/python3.6/dist-packages (from ai-benchmark) (5.4.8)\n",
            "Requirement already satisfied: idna<2.9,>=2.5 in /usr/local/lib/python3.6/dist-packages (from requests->ai-benchmark) (2.8)\n",
            "Requirement already satisfied: certifi>=2017.4.17 in /usr/local/lib/python3.6/dist-packages (from requests->ai-benchmark) (2019.9.11)\n",
            "Requirement already satisfied: chardet<3.1.0,>=3.0.2 in /usr/local/lib/python3.6/dist-packages (from requests->ai-benchmark) (3.0.4)\n",
            "Requirement already satisfied: urllib3<1.25,>=1.21.1 in /usr/local/lib/python3.6/dist-packages (from requests->ai-benchmark) (1.24.3)\n",
            "Requirement already satisfied: olefile in /usr/local/lib/python3.6/dist-packages (from pillow->ai-benchmark) (0.46)\n",
            "Building wheels for collected packages: py-cpuinfo\n",
            "  Building wheel for py-cpuinfo (setup.py) ... \u001b[?25l\u001b[?25hdone\n",
            "  Created wheel for py-cpuinfo: filename=py_cpuinfo-5.0.0-cp36-none-any.whl size=18685 sha256=58850f72145df515b0b0a494b445188d8d1e00a406f7eff3a6118a93a204ecc9\n",
            "  Stored in directory: /root/.cache/pip/wheels/01/7e/a9/b982d0fea22b7e4ae5619de949570cde5ad55420cec16e86a5\n",
            "Successfully built py-cpuinfo\n",
            "Installing collected packages: py-cpuinfo, ai-benchmark\n",
            "Successfully installed ai-benchmark-0.1.1 py-cpuinfo-5.0.0\n"
          ],
          "name": "stdout"
        }
      ]
    },
    {
      "cell_type": "markdown",
      "metadata": {
        "id": "_Y7hkpNYECKJ",
        "colab_type": "text"
      },
      "source": [
        "# 运行跑分"
      ]
    },
    {
      "cell_type": "code",
      "metadata": {
        "id": "dTnXzFmYEJaD",
        "colab_type": "code",
        "outputId": "42067f77-8b7d-4e10-db16-ca61ecdd44a1",
        "colab": {
          "base_uri": "https://localhost:8080/",
          "height": 1000
        }
      },
      "source": [
        "from ai_benchmark import AIBenchmark\n",
        "results = AIBenchmark().run()"
      ],
      "execution_count": 3,
      "outputs": [
        {
          "output_type": "stream",
          "text": [
            "\n",
            ">>   AI-Benchmark-v.0.1.1   \n",
            ">>   Let the AI Games begin..\n",
            "\n",
            "*  TF Version: 1.15.0\n",
            "*  Platform: Linux-4.14.137+-x86_64-with-Ubuntu-18.04-bionic\n",
            "*  CPU: Intel(R) Xeon(R) CPU @ 2.30GHz\n",
            "*  CPU RAM: 13 GB\n",
            "*  GPU/0: Tesla K80\n",
            "*  GPU RAM: 10.6 GB\n",
            "*  CUDA Version: 10.0\n",
            "*  CUDA Build: V10.0.130\n",
            "\n",
            "The benchmark is running...\n",
            "The tests might take up to 20 minutes\n",
            "Please don't interrupt the script\n",
            "\n",
            "1/19. MobileNet-V2\n",
            "\n",
            "1.1 - inference | batch=50, size=224x224: 117 ± 3 ms\n",
            "1.2 - training  | batch=50, size=224x224: 559 ± 3 ms\n",
            "\n",
            "2/19. Inception-V3\n",
            "\n",
            "2.1 - inference | batch=20, size=346x346: 219 ± 2 ms\n",
            "2.2 - training  | batch=20, size=346x346: 814 ± 3 ms\n",
            "\n",
            "3/19. Inception-V4\n",
            "\n",
            "3.1 - inference | batch=10, size=346x346: 234 ± 1 ms\n",
            "3.2 - training  | batch=10, size=346x346: 841 ± 2 ms\n",
            "\n",
            "4/19. Inception-ResNet-V2\n",
            "\n",
            "4.1 - inference | batch=10, size=346x346: 313 ± 4 ms\n",
            "4.2 - training  | batch=8, size=346x346: 921 ± 2 ms\n",
            "\n",
            "5/19. ResNet-V2-50\n",
            "\n",
            "5.1 - inference | batch=10, size=346x346: 156 ± 2 ms\n",
            "5.2 - training  | batch=10, size=346x346: 495.0 ± 0.7 ms\n",
            "\n",
            "6/19. ResNet-V2-152\n",
            "\n",
            "6.1 - inference | batch=10, size=256x256: 218 ± 1 ms\n",
            "6.2 - training  | batch=10, size=256x256: 768 ± 1 ms\n",
            "\n",
            "7/19. VGG-16\n",
            "\n",
            "7.1 - inference | batch=20, size=224x224: 313 ± 2 ms\n",
            "7.2 - training  | batch=2, size=224x224: 428 ± 1 ms\n",
            "\n",
            "8/19. SRCNN 9-5-5\n",
            "\n",
            "8.1 - inference | batch=10, size=512x512: 421 ± 4 ms\n",
            "8.2 - inference | batch=1, size=1536x1536: 407 ± 4 ms\n",
            "8.3 - training  | batch=10, size=512x512: 1030 ± 8 ms\n",
            "\n",
            "9/19. VGG-19 Super-Res\n",
            "\n",
            "9.1 - inference | batch=10, size=256x256: 512 ± 2 ms\n",
            "9.2 - inference | batch=1, size=1024x1024: 812 ± 2 ms\n",
            "9.3 - training  | batch=10, size=224x224: 1077 ± 3 ms\n",
            "\n",
            "10/19. ResNet-SRGAN\n",
            "\n",
            "10.1 - inference | batch=10, size=512x512: 415 ± 4 ms\n",
            "10.2 - inference | batch=1, size=1536x1536: 382 ± 2 ms\n",
            "10.3 - training  | batch=5, size=512x512: 622 ± 2 ms\n",
            "\n",
            "11/19. ResNet-DPED\n",
            "\n",
            "11.1 - inference | batch=10, size=256x256: 473 ± 1 ms\n",
            "11.2 - inference | batch=1, size=1024x1024: 917 ± 1 ms\n",
            "11.3 - training  | batch=15, size=128x128: 603 ± 1 ms\n",
            "\n",
            "12/19. U-Net\n",
            "\n",
            "12.1 - inference | batch=4, size=512x512: 970 ± 2 ms\n",
            "12.2 - inference | batch=1, size=1024x1024: 976 ± 2 ms\n",
            "12.3 - training  | batch=4, size=256x256: 830 ± 3 ms\n",
            "\n",
            "13/19. Nvidia-SPADE\n",
            "\n",
            "13.1 - inference | batch=5, size=128x128: 450 ± 5 ms\n",
            "13.2 - training  | batch=1, size=128x128: 581 ± 4 ms\n",
            "\n",
            "14/19. ICNet\n",
            "\n",
            "14.1 - inference | batch=5, size=1024x1536: 361 ± 5 ms\n",
            "14.2 - training  | batch=10, size=1024x1536: 895 ± 14 ms\n",
            "\n",
            "15/19. PSPNet\n",
            "\n",
            "15.1 - inference | batch=5, size=720x720: 1965 ± 12 ms\n",
            "15.2 - training  | batch=1, size=512x512: 649 ± 3 ms\n",
            "\n",
            "16/19. DeepLab\n",
            "\n",
            "16.1 - inference | batch=2, size=512x512: 489 ± 3 ms\n",
            "16.2 - training  | batch=1, size=384x384: 583 ± 2 ms\n",
            "\n",
            "17/19. Pixel-RNN\n",
            "\n",
            "17.1 - inference | batch=50, size=64x64: 1678 ± 10 ms\n",
            "17.2 - training  | batch=10, size=64x64: 2928 ± 20 ms\n",
            "\n",
            "18/19. LSTM-Sentiment\n",
            "\n",
            "18.1 - inference | batch=100, size=1024x300: 1445 ± 25 ms\n",
            "18.2 - training  | batch=10, size=1024x300: 2301 ± 9 ms\n",
            "\n",
            "19/19. GNMT-Translation\n",
            "\n",
            "19.1 - inference | batch=1, size=1x20: 376 ± 4 ms\n",
            "\n",
            "Device Inference Score: 2996\n",
            "Device Training Score: 3638\n",
            "Device AI Score: 6634\n",
            "\n",
            "For more information and results, please visit http://ai-benchmark.com/alpha\n",
            "\n"
          ],
          "name": "stdout"
        }
      ]
    },
    {
      "cell_type": "markdown",
      "metadata": {
        "id": "HeU2wzZ-IvKl",
        "colab_type": "text"
      },
      "source": [
        "# 可以使用一些linux命令\n"
      ]
    },
    {
      "cell_type": "code",
      "metadata": {
        "id": "wApJ2LF_IF7U",
        "colab_type": "code",
        "colab": {
          "base_uri": "https://localhost:8080/",
          "height": 67
        },
        "outputId": "b1aa5ec0-1250-4a28-bd0d-3668a501d7a7"
      },
      "source": [
        "!pwd\n",
        "!ls\n",
        "!chdir /"
      ],
      "execution_count": 6,
      "outputs": [
        {
          "output_type": "stream",
          "text": [
            "/usr/local/lib/python3.6/dist-packages/ai_benchmark\n",
            "config.py  data  __init__.py  models  __pycache__  update_utils.py  utils.py\n",
            "/bin/bash: chdir: command not found\n"
          ],
          "name": "stdout"
        }
      ]
    },
    {
      "cell_type": "markdown",
      "metadata": {
        "id": "Ar97YEtXODbw",
        "colab_type": "text"
      },
      "source": [
        "# 授权谷歌硬盘\n"
      ]
    },
    {
      "cell_type": "code",
      "metadata": {
        "id": "0XqX5COqOB0F",
        "colab_type": "code",
        "colab": {
          "base_uri": "https://localhost:8080/",
          "height": 222
        },
        "outputId": "22e2a7e9-e1d4-4d68-e293-b3aaff75c092"
      },
      "source": [
        "!apt-get install -y -qq software-properties-common python-software-properties module-init-tools\n",
        "!add-apt-repository -y ppa:alessandro-strada/ppa 2>&1 > /dev/null\n",
        "!apt-get update -qq 2>&1 > /dev/null\n",
        "!apt-get -y install -qq google-drive-ocamlfuse fuse\n",
        "from google.colab import auth\n",
        "auth.authenticate_user()\n",
        "from oauth2client.client import GoogleCredentials\n",
        "creds = GoogleCredentials.get_application_default()\n",
        "import getpass\n",
        "!google-drive-ocamlfuse -headless -id={creds.client_id} -secret={creds.client_secret} < /dev/null 2>&1 | grep URL\n",
        "vcode = getpass.getpass()\n",
        "!echo {vcode} | google-drive-ocamlfuse -headless -id={creds.client_id} -secret={creds.client_secret}"
      ],
      "execution_count": 8,
      "outputs": [
        {
          "output_type": "stream",
          "text": [
            "E: Package 'python-software-properties' has no installation candidate\n",
            "Selecting previously unselected package google-drive-ocamlfuse.\n",
            "(Reading database ... 132681 files and directories currently installed.)\n",
            "Preparing to unpack .../google-drive-ocamlfuse_0.7.13-0ubuntu1~ubuntu18.04.1_amd64.deb ...\n",
            "Unpacking google-drive-ocamlfuse (0.7.13-0ubuntu1~ubuntu18.04.1) ...\n",
            "Setting up google-drive-ocamlfuse (0.7.13-0ubuntu1~ubuntu18.04.1) ...\n",
            "Processing triggers for man-db (2.8.3-2ubuntu0.1) ...\n",
            "Please, open the following URL in a web browser: https://accounts.google.com/o/oauth2/auth?client_id=32555940559.apps.googleusercontent.com&redirect_uri=urn%3Aietf%3Awg%3Aoauth%3A2.0%3Aoob&scope=https%3A%2F%2Fwww.googleapis.com%2Fauth%2Fdrive&response_type=code&access_type=offline&approval_prompt=force\n",
            "··········\n",
            "Please, open the following URL in a web browser: https://accounts.google.com/o/oauth2/auth?client_id=32555940559.apps.googleusercontent.com&redirect_uri=urn%3Aietf%3Awg%3Aoauth%3A2.0%3Aoob&scope=https%3A%2F%2Fwww.googleapis.com%2Fauth%2Fdrive&response_type=code&access_type=offline&approval_prompt=force\n",
            "Please enter the verification code: Access token retrieved correctly.\n"
          ],
          "name": "stdout"
        }
      ]
    },
    {
      "cell_type": "markdown",
      "metadata": {
        "id": "HUzAf6NkP0LK",
        "colab_type": "text"
      },
      "source": [
        "# 建立工作目录 建立工作文件夹drive"
      ]
    },
    {
      "cell_type": "code",
      "metadata": {
        "id": "RWCcpTkaQAGV",
        "colab_type": "code",
        "colab": {
          "base_uri": "https://localhost:8080/",
          "height": 67
        },
        "outputId": "a03996da-361a-4750-9aab-4f31f17bd331"
      },
      "source": [
        "!mkdir -p drive\n",
        "!google-drive-ocamlfuse -o nonempty drive\n",
        "!ls\n",
        "!pwd"
      ],
      "execution_count": 15,
      "outputs": [
        {
          "output_type": "stream",
          "text": [
            "config.py  drive\tmodels\t     update_utils.py\n",
            "data\t   __init__.py\t__pycache__  utils.py\n",
            "/usr/local/lib/python3.6/dist-packages/ai_benchmark\n"
          ],
          "name": "stdout"
        }
      ]
    },
    {
      "cell_type": "markdown",
      "metadata": {
        "id": "bBjhololQ0HF",
        "colab_type": "text"
      },
      "source": [
        "# 切换和查看当前目录\n",
        "```\n",
        "import os\n",
        "path = \"/content/drive\"\n",
        "os.chdir(path)\n",
        "os.listdir(path)\n",
        "\n",
        "```\n",
        "\n"
      ]
    },
    {
      "cell_type": "code",
      "metadata": {
        "id": "EkPE07U5Qyq2",
        "colab_type": "code",
        "colab": {
          "base_uri": "https://localhost:8080/",
          "height": 34
        },
        "outputId": "5925c5c5-5f5e-477f-eb83-9854f9992f83"
      },
      "source": [
        "import os\n",
        "path = \"/content\"\n",
        "os.chdir(path)\n",
        "os.listdir(path)\n",
        "print()"
      ],
      "execution_count": 20,
      "outputs": [
        {
          "output_type": "stream",
          "text": [
            "\n"
          ],
          "name": "stdout"
        }
      ]
    },
    {
      "cell_type": "markdown",
      "metadata": {
        "id": "oKT-XHKiTLOq",
        "colab_type": "text"
      },
      "source": [
        "# 一些其他常用命令\n",
        "## 下载仓库\n",
        "`!git`\n",
        "## 解压文件\n",
        "`!unzip`\n",
        "\n",
        "## 寻找文件\n",
        "\n",
        "```\n",
        "!whereis python #所有python相关的\n",
        "!which python  #只找名字为python的\n",
        "!sudo find / -iname 'libcublas*' #以root权限找前缀为libcublas的\n",
        "```\n",
        "\n",
        "\n"
      ]
    },
    {
      "cell_type": "code",
      "metadata": {
        "id": "UZ9HBLz-T-Hi",
        "colab_type": "code",
        "colab": {
          "base_uri": "https://localhost:8080/",
          "height": 67
        },
        "outputId": "9abafd3b-bba8-40b9-c8b2-ec52708e436d"
      },
      "source": [
        "! ls .."
      ],
      "execution_count": 22,
      "outputs": [
        {
          "output_type": "stream",
          "text": [
            "bin\t datalab  home\t lib64\topt   run   swift\t      tmp    var\n",
            "boot\t dev\t  lib\t media\tproc  sbin  sys\t\t      tools\n",
            "content  etc\t  lib32  mnt\troot  srv   tensorflow-2.0.0  usr\n"
          ],
          "name": "stdout"
        }
      ]
    },
    {
      "cell_type": "markdown",
      "metadata": {
        "id": "dnFJmrQKUUpm",
        "colab_type": "text"
      },
      "source": [
        "运行本地代码\n",
        "\n",
        "   (1) 将本地代码上传至google drive\n",
        "\n",
        "（2）在代码文件中创建一个 colab 文件：code_run_file.ipynb --- 用于运行本地代码。\n",
        "\n",
        "（3）打开 code_run_file.ipynb ，按照以下步骤运行本地代码\n",
        "```\n",
        " \n",
        "! cd [本地代码的位置]  # 目的：使colab的工作环境在本地代码文件位置。\n",
        " \n",
        " \n",
        "# 关键命令：\n",
        "! python3 需要运行的文件名.py\n",
        "```\n"
      ]
    },
    {
      "cell_type": "markdown",
      "metadata": {
        "id": "pa2DJ0gGUxgV",
        "colab_type": "text"
      },
      "source": [
        "查看当前路径和当前路径的内容\n",
        "\n",
        "```\n",
        "# Check your current directory\n",
        "!pwd\n",
        "# Check contents under current directory\n",
        "!ls\n",
        "```\n",
        "\n"
      ]
    },
    {
      "cell_type": "markdown",
      "metadata": {
        "id": "VvmwyHXUU9CG",
        "colab_type": "text"
      },
      "source": [
        "# 查看colab的操作系统\n",
        "\n",
        "!sudo lsb_release -a #查看操作系统版本"
      ]
    },
    {
      "cell_type": "code",
      "metadata": {
        "id": "Vs1lnEi-VFg0",
        "colab_type": "code",
        "colab": {
          "base_uri": "https://localhost:8080/",
          "height": 101
        },
        "outputId": "f37695a9-a62e-4775-eea0-35286cb1c89e"
      },
      "source": [
        "!sudo lsb_release -a #查看操作系统版本"
      ],
      "execution_count": 23,
      "outputs": [
        {
          "output_type": "stream",
          "text": [
            "No LSB modules are available.\n",
            "Distributor ID:\tUbuntu\n",
            "Description:\tUbuntu 18.04.3 LTS\n",
            "Release:\t18.04\n",
            "Codename:\tbionic\n"
          ],
          "name": "stdout"
        }
      ]
    },
    {
      "cell_type": "markdown",
      "metadata": {
        "id": "j9UkEzUcVpOH",
        "colab_type": "text"
      },
      "source": [
        "# 查看CUDA版本\n",
        "\n",
        "!cat /usr/local/cuda/version.txt #查看CUDA版本"
      ]
    },
    {
      "cell_type": "code",
      "metadata": {
        "id": "yLSWvLqaVv6j",
        "colab_type": "code",
        "colab": {
          "base_uri": "https://localhost:8080/",
          "height": 34
        },
        "outputId": "f99efbcf-67b1-43ef-a061-6600f5b2a5d5"
      },
      "source": [
        "!cat /usr/local/cuda/version.txt #查看CUDA版本"
      ],
      "execution_count": 24,
      "outputs": [
        {
          "output_type": "stream",
          "text": [
            "CUDA Version 10.0.130\n"
          ],
          "name": "stdout"
        }
      ]
    },
    {
      "cell_type": "markdown",
      "metadata": {
        "id": "w29R69n6WKue",
        "colab_type": "text"
      },
      "source": [
        "# 查看RAM"
      ]
    },
    {
      "cell_type": "code",
      "metadata": {
        "id": "UkbwWTt6WPpl",
        "colab_type": "code",
        "colab": {
          "base_uri": "https://localhost:8080/",
          "height": 773
        },
        "outputId": "d129790e-756a-4286-cd9c-e053bf76c55c"
      },
      "source": [
        "!cat /proc/meminfo"
      ],
      "execution_count": 25,
      "outputs": [
        {
          "output_type": "stream",
          "text": [
            "MemTotal:       13335192 kB\n",
            "MemFree:         4818676 kB\n",
            "MemAvailable:   10697516 kB\n",
            "Buffers:           90032 kB\n",
            "Cached:          4034076 kB\n",
            "SwapCached:            0 kB\n",
            "Active:          1935844 kB\n",
            "Inactive:        6167648 kB\n",
            "Active(anon):    1513192 kB\n",
            "Inactive(anon):   554308 kB\n",
            "Active(file):     422652 kB\n",
            "Inactive(file):  5613340 kB\n",
            "Unevictable:           0 kB\n",
            "Mlocked:               0 kB\n",
            "SwapTotal:             0 kB\n",
            "SwapFree:              0 kB\n",
            "Dirty:               232 kB\n",
            "Writeback:             0 kB\n",
            "AnonPages:       3979336 kB\n",
            "Mapped:          1271444 kB\n",
            "Shmem:            554876 kB\n",
            "Slab:             213088 kB\n",
            "SReclaimable:     167036 kB\n",
            "SUnreclaim:        46052 kB\n",
            "KernelStack:        4128 kB\n",
            "PageTables:        18120 kB\n",
            "NFS_Unstable:          0 kB\n",
            "Bounce:                0 kB\n",
            "WritebackTmp:          0 kB\n",
            "CommitLimit:     6667596 kB\n",
            "Committed_AS:    7379696 kB\n",
            "VmallocTotal:   34359738367 kB\n",
            "VmallocUsed:           0 kB\n",
            "VmallocChunk:          0 kB\n",
            "AnonHugePages:    241664 kB\n",
            "ShmemHugePages:        0 kB\n",
            "ShmemPmdMapped:        0 kB\n",
            "HugePages_Total:       0\n",
            "HugePages_Free:        0\n",
            "HugePages_Rsvd:        0\n",
            "HugePages_Surp:        0\n",
            "Hugepagesize:       2048 kB\n",
            "DirectMap4k:      149492 kB\n",
            "DirectMap2M:     7190528 kB\n",
            "DirectMap1G:     8388608 kB\n"
          ],
          "name": "stdout"
        }
      ]
    }
  ]
}